{
 "cells": [
  {
   "cell_type": "markdown",
   "metadata": {},
   "source": [
    "# Analyse your FB Messages\n",
    "### Basic statistics for a chosen word\n",
    "Imports"
   ]
  },
  {
   "cell_type": "code",
   "execution_count": null,
   "metadata": {},
   "outputs": [],
   "source": [
    "import sqlite3\n",
    "import pandas as pd\n",
    "import numpy as np\n",
    "import matplotlib.pyplot as plt\n",
    "from scipy.optimize import curve_fit"
   ]
  },
  {
   "cell_type": "markdown",
   "metadata": {},
   "source": [
    "Run the script to create a SQLite3 database from your 'messages' folder"
   ]
  },
  {
   "cell_type": "code",
   "execution_count": null,
   "metadata": {},
   "outputs": [],
   "source": [
    "SCRIPT_PATH = './create_db.py'\n",
    "DB_PATH = './database.db'\n",
    "\n",
    "!python3 {SCRIPT_PATH}"
   ]
  },
  {
   "cell_type": "markdown",
   "metadata": {},
   "source": [
    "DB query functions - one returning a list of tuples, the other a pandas dataframe"
   ]
  },
  {
   "cell_type": "code",
   "execution_count": null,
   "metadata": {},
   "outputs": [],
   "source": [
    "def query(sql, params=[]):\n",
    "    with sqlite3.connect(DB_PATH) as conn:\n",
    "        c = conn.cursor()\n",
    "        return c.execute(sql, params).fetchall()\n",
    "    \n",
    "def pd_query(sql, params=[]):\n",
    "    with sqlite3.connect(DB_PATH) as conn:\n",
    "        return pd.read_sql(sql, conn, params=params)"
   ]
  },
  {
   "cell_type": "markdown",
   "metadata": {},
   "source": [
    "Count all messages per user"
   ]
  },
  {
   "cell_type": "code",
   "execution_count": null,
   "metadata": {
    "scrolled": true
   },
   "outputs": [],
   "source": [
    "sql = \"\"\"\n",
    "    SELECT user_name as User, count(*) as Messages\n",
    "    FROM messages\n",
    "    GROUP BY user_name\n",
    "    ORDER BY 2 desc\n",
    "\"\"\"\n",
    "\n",
    "all_messages = pd_query(sql)\n",
    "all_messages.head()"
   ]
  },
  {
   "cell_type": "markdown",
   "metadata": {},
   "source": [
    "### Specify a magic word\n",
    "Load 10 example messages containing that word"
   ]
  },
  {
   "cell_type": "code",
   "execution_count": null,
   "metadata": {
    "scrolled": false
   },
   "outputs": [],
   "source": [
    "MAGIC_WORD = \"xD\"\n",
    "\n",
    "sql = f\"\"\"\n",
    "    SELECT m.user_name, c.title, m.content\n",
    "    FROM messages m\n",
    "    JOIN conversations c ON m.conversation_id = c.id\n",
    "    WHERE content LIKE '%{MAGIC_WORD}%'\n",
    "    LIMIT 10\n",
    "\"\"\"\n",
    "\n",
    "for user, convo, message in query(sql):\n",
    "    print(f'{user} <{convo}>:')\n",
    "    print(f'\"{message}\"\\n')\n",
    "    "
   ]
  },
  {
   "cell_type": "markdown",
   "metadata": {},
   "source": [
    "Count all messages containing the magic word"
   ]
  },
  {
   "cell_type": "code",
   "execution_count": null,
   "metadata": {
    "scrolled": false
   },
   "outputs": [],
   "source": [
    "sql = f\"\"\"\n",
    "    SELECT user_name as User, count(*) as [{MAGIC_WORD}-s]\n",
    "    FROM messages\n",
    "    WHERE content LIKE '%{MAGIC_WORD}%'\n",
    "    GROUP BY user_name\n",
    "    ORDER BY 2 desc\n",
    "\"\"\"\n",
    "\n",
    "containing = pd_query(sql)\n",
    "containing.head()"
   ]
  },
  {
   "cell_type": "markdown",
   "metadata": {},
   "source": [
    "Merge the dataframes<br>\n",
    "Plot the datapoints and a linear fit"
   ]
  },
  {
   "cell_type": "code",
   "execution_count": null,
   "metadata": {},
   "outputs": [],
   "source": [
    "word_stats = all_messages.merge(containing, how='inner', on='User')\n",
    "word_stats['Percentage'] = 100 * word_stats[f'{MAGIC_WORD}-s'] / word_stats['Messages']\n",
    "\n",
    "skip = 4\n",
    "xs, ys = word_stats.iloc[skip:, 1], word_stats.iloc[skip:, 2]\n",
    "\n",
    "def fitting_function(x, a, b):\n",
    "    return a * x + b\n",
    "\n",
    "lin_args, _ = curve_fit(fitting_function, xs, ys)\n",
    "\n",
    "plt.title(f'\"{MAGIC_WORD}\" vs total message count')\n",
    "plt.xlabel('All messages')\n",
    "plt.ylabel(f'Containing \"{MAGIC_WORD}\"')\n",
    "plt.scatter(xs, ys, c='black', s=5)\n",
    "plt.plot(xs, fitting_function(xs, *lin_args), c='red')\n",
    "plt.show()"
   ]
  },
  {
   "cell_type": "markdown",
   "metadata": {},
   "source": [
    "### Most frequent use of the magic word per quantity"
   ]
  },
  {
   "cell_type": "code",
   "execution_count": null,
   "metadata": {},
   "outputs": [],
   "source": [
    "word_stats.sort_values(f'{MAGIC_WORD}-s', ascending=False).head(10)"
   ]
  },
  {
   "cell_type": "markdown",
   "metadata": {},
   "source": [
    "### Least frequent use of the magic word per quantity"
   ]
  },
  {
   "cell_type": "code",
   "execution_count": null,
   "metadata": {
    "scrolled": true
   },
   "outputs": [],
   "source": [
    "word_stats.sort_values(f'{MAGIC_WORD}-s').head()"
   ]
  },
  {
   "cell_type": "markdown",
   "metadata": {},
   "source": [
    "### Most frequent use of the magic word as a percentage of all messages"
   ]
  },
  {
   "cell_type": "code",
   "execution_count": null,
   "metadata": {
    "scrolled": true
   },
   "outputs": [],
   "source": [
    "word_stats.sort_values('Percentage', ascending=False).head(10)"
   ]
  },
  {
   "cell_type": "markdown",
   "metadata": {},
   "source": [
    "### Least frequent use of the magic word as a percentage of all messages"
   ]
  },
  {
   "cell_type": "code",
   "execution_count": null,
   "metadata": {},
   "outputs": [],
   "source": [
    "word_stats.sort_values('Percentage').head()"
   ]
  }
 ],
 "metadata": {
  "kernelspec": {
   "display_name": "Python 3",
   "language": "python",
   "name": "python3"
  },
  "language_info": {
   "codemirror_mode": {
    "name": "ipython",
    "version": 3
   },
   "file_extension": ".py",
   "mimetype": "text/x-python",
   "name": "python",
   "nbconvert_exporter": "python",
   "pygments_lexer": "ipython3",
   "version": "3.7.4"
  }
 },
 "nbformat": 4,
 "nbformat_minor": 2
}
